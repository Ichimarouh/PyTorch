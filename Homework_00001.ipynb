{
 "cells": [
  {
   "cell_type": "markdown",
   "metadata": {},
   "source": [
    "## Фреймворк PyTorch для разработки искусственных нейронных сетей."
   ]
  },
  {
   "cell_type": "markdown",
   "metadata": {},
   "source": [
    "### Урок 1. Основные понятия и структуры PyTorch."
   ]
  },
  {
   "cell_type": "markdown",
   "metadata": {},
   "source": [
    "**1. Coздайте случайный FloatTensor размера 3x4x5.**"
   ]
  },
  {
   "cell_type": "code",
   "execution_count": 76,
   "metadata": {},
   "outputs": [],
   "source": [
    "import numpy as np\n",
    "\n",
    "import torch\n",
    "from torch.autograd import Variable\n",
    "from torch import nn \n",
    "from torch import optim"
   ]
  },
  {
   "cell_type": "code",
   "execution_count": 77,
   "metadata": {},
   "outputs": [
    {
     "name": "stdout",
     "output_type": "stream",
     "text": [
      "tensor([[[ 0.,  1.,  2.,  3.,  4.],\n",
      "         [ 5.,  6.,  7.,  8.,  9.],\n",
      "         [10., 11., 12., 13., 14.],\n",
      "         [15., 16., 17., 18., 19.]],\n",
      "\n",
      "        [[20., 21., 22., 23., 24.],\n",
      "         [25., 26., 27., 28., 29.],\n",
      "         [30., 31., 32., 33., 34.],\n",
      "         [35., 36., 37., 38., 39.]],\n",
      "\n",
      "        [[40., 41., 42., 43., 44.],\n",
      "         [45., 46., 47., 48., 49.],\n",
      "         [50., 51., 52., 53., 54.],\n",
      "         [55., 56., 57., 58., 59.]]]) \n",
      " torch.FloatTensor\n"
     ]
    }
   ],
   "source": [
    "a = torch.arange(60).view(3, 4, 5)\n",
    "\n",
    "a = a.to(torch.float)\n",
    "\n",
    "print(a, '\\n', a.type())"
   ]
  },
  {
   "cell_type": "markdown",
   "metadata": {},
   "source": [
    "**2. Выведите его форму (shape).**"
   ]
  },
  {
   "cell_type": "code",
   "execution_count": 78,
   "metadata": {},
   "outputs": [
    {
     "name": "stdout",
     "output_type": "stream",
     "text": [
      "Тензор \"a\" имеет размерность- torch.Size([3, 4, 5])\n"
     ]
    }
   ],
   "source": [
    "print(f'Тензор \"a\" имеет размерность- {a.shape}')"
   ]
  },
  {
   "cell_type": "markdown",
   "metadata": {},
   "source": [
    "**3. Приведите его к форме 6 X 10.**"
   ]
  },
  {
   "cell_type": "code",
   "execution_count": 79,
   "metadata": {},
   "outputs": [
    {
     "data": {
      "text/plain": [
       "tensor([[ 0.,  1.,  2.,  3.,  4.,  5.,  6.,  7.,  8.,  9.],\n",
       "        [10., 11., 12., 13., 14., 15., 16., 17., 18., 19.],\n",
       "        [20., 21., 22., 23., 24., 25., 26., 27., 28., 29.],\n",
       "        [30., 31., 32., 33., 34., 35., 36., 37., 38., 39.],\n",
       "        [40., 41., 42., 43., 44., 45., 46., 47., 48., 49.],\n",
       "        [50., 51., 52., 53., 54., 55., 56., 57., 58., 59.]])"
      ]
     },
     "execution_count": 79,
     "metadata": {},
     "output_type": "execute_result"
    }
   ],
   "source": [
    "a.reshape(6, 10)"
   ]
  },
  {
   "cell_type": "markdown",
   "metadata": {},
   "source": [
    "**4. Умножьте его на вектор [1,  4,  2,  2,  1] поэлементно.**"
   ]
  },
  {
   "cell_type": "code",
   "execution_count": 80,
   "metadata": {},
   "outputs": [],
   "source": [
    "b = torch.FloatTensor([1, 4, 2, 2, 1])"
   ]
  },
  {
   "cell_type": "code",
   "execution_count": 81,
   "metadata": {},
   "outputs": [
    {
     "data": {
      "text/plain": [
       "tensor([[[  0.,   4.,   4.,   6.,   4.],\n",
       "         [  5.,  24.,  14.,  16.,   9.],\n",
       "         [ 10.,  44.,  24.,  26.,  14.],\n",
       "         [ 15.,  64.,  34.,  36.,  19.]],\n",
       "\n",
       "        [[ 20.,  84.,  44.,  46.,  24.],\n",
       "         [ 25., 104.,  54.,  56.,  29.],\n",
       "         [ 30., 124.,  64.,  66.,  34.],\n",
       "         [ 35., 144.,  74.,  76.,  39.]],\n",
       "\n",
       "        [[ 40., 164.,  84.,  86.,  44.],\n",
       "         [ 45., 184.,  94.,  96.,  49.],\n",
       "         [ 50., 204., 104., 106.,  54.],\n",
       "         [ 55., 224., 114., 116.,  59.]]])"
      ]
     },
     "execution_count": 81,
     "metadata": {},
     "output_type": "execute_result"
    }
   ],
   "source": [
    "c = torch.mul(a, b)\n",
    "\n",
    "c"
   ]
  },
  {
   "cell_type": "markdown",
   "metadata": {},
   "source": [
    "**5. Умножьте тензор матрично на себя, чтобы результат был размерности 6x6.**"
   ]
  },
  {
   "cell_type": "code",
   "execution_count": 82,
   "metadata": {},
   "outputs": [],
   "source": [
    "a = a.reshape(6, 10)\n",
    "\n",
    "d = torch.matmul(a, a.T)"
   ]
  },
  {
   "cell_type": "code",
   "execution_count": 83,
   "metadata": {},
   "outputs": [
    {
     "data": {
      "text/plain": [
       "tensor([[  285.,   735.,  1185.,  1635.,  2085.,  2535.],\n",
       "        [  735.,  2185.,  3635.,  5085.,  6535.,  7985.],\n",
       "        [ 1185.,  3635.,  6085.,  8535., 10985., 13435.],\n",
       "        [ 1635.,  5085.,  8535., 11985., 15435., 18885.],\n",
       "        [ 2085.,  6535., 10985., 15435., 19885., 24335.],\n",
       "        [ 2535.,  7985., 13435., 18885., 24335., 29785.]])"
      ]
     },
     "execution_count": 83,
     "metadata": {},
     "output_type": "execute_result"
    }
   ],
   "source": [
    "d"
   ]
  },
  {
   "cell_type": "markdown",
   "metadata": {},
   "source": [
    "**6. Посчитайте производную функции y = x^3 + z - 75t в точке (1, 0.5, 2).**"
   ]
  },
  {
   "cell_type": "code",
   "execution_count": 84,
   "metadata": {},
   "outputs": [
    {
     "data": {
      "text/plain": [
       "(tensor([3.]), tensor([1.]), tensor([-75.]))"
      ]
     },
     "execution_count": 84,
     "metadata": {},
     "output_type": "execute_result"
    }
   ],
   "source": [
    "x = Variable(torch.FloatTensor([1]),   requires_grad = True)\n",
    "\n",
    "z = Variable(torch.FloatTensor([0.5]), requires_grad = True)\n",
    "\n",
    "t = Variable(torch.FloatTensor([2]),   requires_grad = True)\n",
    "\n",
    "y = x**3 + z -75*t\n",
    "\n",
    "y.backward([x, z, t])\n",
    "\n",
    "(x.grad, z.grad, t.grad)"
   ]
  },
  {
   "cell_type": "markdown",
   "metadata": {},
   "source": [
    "**7. Создайте единичный тензор размера 5x6.**"
   ]
  },
  {
   "cell_type": "code",
   "execution_count": 85,
   "metadata": {},
   "outputs": [
    {
     "name": "stdout",
     "output_type": "stream",
     "text": [
      "Единичный тензор размерности 5*6:\n",
      "tensor([[1., 1., 1., 1., 1., 1.],\n",
      "        [1., 1., 1., 1., 1., 1.],\n",
      "        [1., 1., 1., 1., 1., 1.],\n",
      "        [1., 1., 1., 1., 1., 1.],\n",
      "        [1., 1., 1., 1., 1., 1.]])\n"
     ]
    }
   ],
   "source": [
    "e = torch.ones(5, 6)\n",
    "\n",
    "print(f'Единичный тензор размерности 5*6:\\n{e}')"
   ]
  },
  {
   "cell_type": "markdown",
   "metadata": {},
   "source": [
    "**8. Переведите его в формат numpy.**"
   ]
  },
  {
   "cell_type": "code",
   "execution_count": 86,
   "metadata": {},
   "outputs": [
    {
     "data": {
      "text/plain": [
       "array([[1., 1., 1., 1., 1., 1.],\n",
       "       [1., 1., 1., 1., 1., 1.],\n",
       "       [1., 1., 1., 1., 1., 1.],\n",
       "       [1., 1., 1., 1., 1., 1.],\n",
       "       [1., 1., 1., 1., 1., 1.]], dtype=float32)"
      ]
     },
     "execution_count": 86,
     "metadata": {},
     "output_type": "execute_result"
    }
   ],
   "source": [
    "e.numpy()"
   ]
  },
  {
   "cell_type": "markdown",
   "metadata": {},
   "source": [
    "**9. Давайте теперь пооптимизируем: возьмите функцию y = x^w1 - 2 * x^2 + 5. Посчитайте.**"
   ]
  },
  {
   "cell_type": "code",
   "execution_count": 87,
   "metadata": {},
   "outputs": [],
   "source": [
    "w1 = Variable(torch.Tensor([0.1,0.1]), requires_grad = True)\n",
    "\n",
    "x = Variable(torch.Tensor([2,2]), requires_grad = False)\n",
    "\n",
    "y = Variable(torch.Tensor([2,2]), requires_grad = False)"
   ]
  },
  {
   "cell_type": "code",
   "execution_count": 88,
   "metadata": {},
   "outputs": [],
   "source": [
    "optimizer = torch.optim.SGD([w1], lr=0.001)\n",
    "\n",
    "criterion = torch.nn.MSELoss()"
   ]
  },
  {
   "cell_type": "code",
   "execution_count": 89,
   "metadata": {},
   "outputs": [],
   "source": [
    "f = x**w1 - 2 * x**2 + 5\n",
    "\n",
    "optimizer.zero_grad()\n",
    "pred = f\n",
    "loss = criterion(pred, y)\n",
    "\n",
    "loss.backward()     \n",
    "optimizer.step()   "
   ]
  },
  {
   "cell_type": "code",
   "execution_count": 91,
   "metadata": {},
   "outputs": [
    {
     "name": "stdout",
     "output_type": "stream",
     "text": [
      "loss:\t 15.430963516235352\n",
      "\n",
      "w1:\t tensor([0.1029, 0.1029])\n"
     ]
    }
   ],
   "source": [
    "print(f'loss:\\t {loss.item()}\\n')\n",
    "\n",
    "print(f'w1:\\t {w1.data}')"
   ]
  }
 ],
 "metadata": {
  "kernelspec": {
   "display_name": "Python 3",
   "language": "python",
   "name": "python3"
  },
  "language_info": {
   "codemirror_mode": {
    "name": "ipython",
    "version": 3
   },
   "file_extension": ".py",
   "mimetype": "text/x-python",
   "name": "python",
   "nbconvert_exporter": "python",
   "pygments_lexer": "ipython3",
   "version": "3.8.5"
  }
 },
 "nbformat": 4,
 "nbformat_minor": 4
}

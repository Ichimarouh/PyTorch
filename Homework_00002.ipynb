{
 "cells": [
  {
   "cell_type": "markdown",
   "metadata": {
    "id": "kqzp8sJNwVOR"
   },
   "source": [
    "## Фреймворк PyTorch для разработки искусственных нейронных сетей."
   ]
  },
  {
   "cell_type": "markdown",
   "metadata": {
    "id": "CXfqvr6SwVOS"
   },
   "source": [
    "### Урок 2. Feed-forward neural network."
   ]
  },
  {
   "cell_type": "markdown",
   "metadata": {
    "id": "8IL0W9mbwVOS"
   },
   "source": [
    "**1. Сделаем необходимые импорты**"
   ]
  },
  {
   "cell_type": "code",
   "execution_count": 3,
   "metadata": {
    "id": "lkhMv4hbwVOT"
   },
   "outputs": [],
   "source": [
    "import numpy as np\n",
    "\n",
    "import torch\n",
    "import torchvision\n",
    "import torch.nn.functional as F\n",
    "import torchvision.transforms as transforms\n",
    "from torch import nn\n",
    "\n",
    "from tqdm import tqdm"
   ]
  },
  {
   "cell_type": "markdown",
   "metadata": {
    "id": "g0tCuPhJwVOU"
   },
   "source": [
    "**2. Загрузим датасет CIFAR-100, сразу же создадим dataloader для него. Если вам не хватает вычислительных ресурсов, то можно вернуться к CIFAR-10.**"
   ]
  },
  {
   "cell_type": "code",
   "execution_count": 4,
   "metadata": {
    "colab": {
     "base_uri": "https://localhost:8080/",
     "height": 104,
     "referenced_widgets": [
      "02423c8e1f8e412f84d379f9c1c6843e",
      "61e2b2b203824e048f3ca4c482ba9872",
      "d1612fd0311449fe8c1cf1c2a5825ba8",
      "9a11acf5698146f2bf0e8a21f7af43f5",
      "047dceb93e924271a82028a1705f79b6",
      "e77424a9bb7f4d1aa22ca205c7ac3391",
      "1d4052441cd34363bc9dea444aba45b1",
      "ac7948368a05420b9cc2f057bfbe7b66",
      "6fa738f9d044474abf55c40532a4625b",
      "b49ae7f3f92d47c7b0a73162b86e0d85",
      "9a800f24e2734723a63c6ca501f24205"
     ]
    },
    "id": "6k1IdqbRwVOU",
    "outputId": "28025b7a-2819-4ac3-ff58-0adef46b1dbb"
   },
   "outputs": [
    {
     "name": "stdout",
     "output_type": "stream",
     "text": [
      "Downloading https://www.cs.toronto.edu/~kriz/cifar-100-python.tar.gz to ./temp_data/cifar-100-python.tar.gz\n"
     ]
    },
    {
     "data": {
      "application/vnd.jupyter.widget-view+json": {
       "model_id": "02423c8e1f8e412f84d379f9c1c6843e",
       "version_major": 2,
       "version_minor": 0
      },
      "text/plain": [
       "  0%|          | 0/169001437 [00:00<?, ?it/s]"
      ]
     },
     "metadata": {},
     "output_type": "display_data"
    },
    {
     "name": "stdout",
     "output_type": "stream",
     "text": [
      "Extracting ./temp_data/cifar-100-python.tar.gz to ./temp_data\n",
      "Files already downloaded and verified\n"
     ]
    }
   ],
   "source": [
    "transform = transforms.Compose(\n",
    "    [transforms.ToTensor(),\n",
    "     transforms.Normalize((0.5, 0.5, 0.5), (0.5, 0.5, 0.5))])\n",
    "\n",
    "BATCH_SIZE = 4\n",
    "\n",
    "train_set = torchvision.datasets.CIFAR100(root='./temp_data', train=True, download=True, transform=transform)\n",
    "\n",
    "train_loader = torch.utils.data.DataLoader(train_set, batch_size=BATCH_SIZE, shuffle=True, num_workers=2)\n",
    "\n",
    "test_set = torchvision.datasets.CIFAR100(root='./temp_data', train=False, download=True, transform=transform)\n",
    "\n",
    "test_loader = torch.utils.data.DataLoader(test_set, batch_size = BATCH_SIZE, shuffle=False, num_workers=2)\n",
    "\n",
    "classes = ('plane', 'car', 'bird', 'cat',\n",
    "           'deer', 'dog', 'frog', 'horse', 'ship', 'truck')"
   ]
  },
  {
   "cell_type": "code",
   "execution_count": 5,
   "metadata": {
    "id": "W_-c9Ew-wVOU"
   },
   "outputs": [],
   "source": [
    "def get_img_vector_size(args)->int:\n",
    "    dataiter = iter(train_loader)\n",
    "    images, labels = dataiter.next()\n",
    "    size = images[0].size()\n",
    "    return size[0] * size[1] * size[2]"
   ]
  },
  {
   "cell_type": "markdown",
   "metadata": {
    "id": "cVO8JSB7wVOV"
   },
   "source": [
    "**3.  Создайте собственную архитектуру! Можете использовать все, что угодно, но в ограничении на использование линейные слои (пока без сверток). Давайте добавим ограниченный Leaky_relu, то есть output = max(0.1x, 0.5x). Ваша задача добавить его в архитектуру сети как функцию активации.**"
   ]
  },
  {
   "cell_type": "code",
   "execution_count": 6,
   "metadata": {
    "id": "Hu07dmNNwVOV"
   },
   "outputs": [],
   "source": [
    "class CustomLeakyRelu(nn.Module):\n",
    "    def __init__(self, border:float, alpha:float) -> None:\n",
    "        super().__init__()\n",
    "        self.border = border\n",
    "        self.alpha = alpha\n",
    "        \n",
    "    def forward(self, input):\n",
    "        x = F.leaky_relu(input)\n",
    "        return torch.where(x>self.border, x*self.alpha, x)\n",
    "\n",
    "class Net(nn.Module):\n",
    "    def __init__(self) -> None:\n",
    "        super().__init__()\n",
    "        img_vector_size = 3072\n",
    "        self.fc1 = nn.Linear(img_vector_size,128)\n",
    "        self.fc2 = nn.Linear(128,64)\n",
    "        self.fc3 = nn.Linear(64,100)\n",
    "        self.cust_relu = CustomLeakyRelu(0.1, 0.5)\n",
    "        \n",
    "    def forward(self, x):\n",
    "        x = x.view(x.shape[0], -1)        \n",
    "        x = self.cust_relu(self.fc1(x))\n",
    "        x = F.relu(self.fc2(x))\n",
    "        x = self.fc3(x)\n",
    "        return x\n",
    "    \n",
    "    def predict(self, x):\n",
    "        x = x.view(x.shape[0], -1)\n",
    "        x = self.cust_relu(self.fc1(x))\n",
    "        x = F.relu(self.fc2(x))\n",
    "        x = F.softmax(self.fc3(x))\n",
    "        return x\n",
    "        \n",
    "net = Net()\n",
    "\n",
    "criterion = nn.CrossEntropyLoss()\n",
    "\n",
    "optimizer = torch.optim.Adam(net.parameters(), lr=0.001)"
   ]
  },
  {
   "cell_type": "markdown",
   "metadata": {
    "id": "hTarNrm6wVOV"
   },
   "source": [
    "**4. Запустить обучение (по аналогии с тем, что делали на паре).**"
   ]
  },
  {
   "cell_type": "code",
   "execution_count": 7,
   "metadata": {
    "colab": {
     "base_uri": "https://localhost:8080/"
    },
    "id": "ibmeQAzlwVOW",
    "outputId": "36971055-8cd4-4306-f3e1-ae4b2b9a448f"
   },
   "outputs": [
    {
     "name": "stderr",
     "output_type": "stream",
     "text": [
      "\r",
      "  0%|          | 0/10 [00:00<?, ?it/s]"
     ]
    },
    {
     "name": "stdout",
     "output_type": "stream",
     "text": [
      "[1,     1] loss: 0.002\n",
      "[1,   301] loss: 0.685\n",
      "[1,   601] loss: 0.651\n",
      "[1,   901] loss: 0.636\n",
      "[1,  1201] loss: 0.629\n",
      "[1,  1501] loss: 0.619\n",
      "[1,  1801] loss: 0.605\n",
      "[1,  2101] loss: 0.602\n",
      "[1,  2401] loss: 0.606\n",
      "[1,  2701] loss: 0.604\n",
      "[1,  3001] loss: 0.594\n",
      "[1,  3301] loss: 0.598\n",
      "[1,  3601] loss: 0.602\n",
      "[1,  3901] loss: 0.582\n",
      "[1,  4201] loss: 0.582\n",
      "[1,  4501] loss: 0.579\n",
      "[1,  4801] loss: 0.583\n",
      "[1,  5101] loss: 0.588\n",
      "[1,  5401] loss: 0.591\n",
      "[1,  5701] loss: 0.579\n",
      "[1,  6001] loss: 0.574\n",
      "[1,  6301] loss: 0.578\n",
      "[1,  6601] loss: 0.577\n",
      "[1,  6901] loss: 0.590\n",
      "[1,  7201] loss: 0.570\n",
      "[1,  7501] loss: 0.570\n",
      "[1,  7801] loss: 0.572\n",
      "[1,  8101] loss: 0.567\n",
      "[1,  8401] loss: 0.575\n",
      "[1,  8701] loss: 0.564\n",
      "[1,  9001] loss: 0.567\n",
      "[1,  9301] loss: 0.563\n",
      "[1,  9601] loss: 0.561\n",
      "[1,  9901] loss: 0.572\n",
      "[1, 10201] loss: 0.571\n",
      "[1, 10501] loss: 0.567\n",
      "[1, 10801] loss: 0.558\n",
      "[1, 11101] loss: 0.569\n",
      "[1, 11401] loss: 0.554\n",
      "[1, 11701] loss: 0.563\n",
      "[1, 12001] loss: 0.550\n",
      "[1, 12301] loss: 0.572\n"
     ]
    },
    {
     "name": "stderr",
     "output_type": "stream",
     "text": [
      "\r",
      " 10%|█         | 1/10 [01:44<15:37, 104.13s/it]"
     ]
    },
    {
     "name": "stdout",
     "output_type": "stream",
     "text": [
      "[2,     1] loss: 0.002\n",
      "[2,   301] loss: 0.548\n",
      "[2,   601] loss: 0.555\n",
      "[2,   901] loss: 0.550\n",
      "[2,  1201] loss: 0.557\n",
      "[2,  1501] loss: 0.562\n",
      "[2,  1801] loss: 0.557\n",
      "[2,  2101] loss: 0.541\n",
      "[2,  2401] loss: 0.541\n",
      "[2,  2701] loss: 0.558\n",
      "[2,  3001] loss: 0.544\n",
      "[2,  3301] loss: 0.554\n",
      "[2,  3601] loss: 0.556\n",
      "[2,  3901] loss: 0.543\n",
      "[2,  4201] loss: 0.551\n",
      "[2,  4501] loss: 0.556\n",
      "[2,  4801] loss: 0.547\n",
      "[2,  5101] loss: 0.553\n",
      "[2,  5401] loss: 0.543\n",
      "[2,  5701] loss: 0.552\n",
      "[2,  6001] loss: 0.553\n",
      "[2,  6301] loss: 0.549\n",
      "[2,  6601] loss: 0.544\n",
      "[2,  6901] loss: 0.556\n",
      "[2,  7201] loss: 0.551\n",
      "[2,  7501] loss: 0.556\n",
      "[2,  7801] loss: 0.535\n",
      "[2,  8101] loss: 0.550\n",
      "[2,  8401] loss: 0.542\n",
      "[2,  8701] loss: 0.553\n",
      "[2,  9001] loss: 0.562\n",
      "[2,  9301] loss: 0.559\n",
      "[2,  9601] loss: 0.558\n",
      "[2,  9901] loss: 0.551\n",
      "[2, 10201] loss: 0.551\n",
      "[2, 10501] loss: 0.559\n",
      "[2, 10801] loss: 0.560\n",
      "[2, 11101] loss: 0.555\n",
      "[2, 11401] loss: 0.546\n",
      "[2, 11701] loss: 0.543\n",
      "[2, 12001] loss: 0.540\n",
      "[2, 12301] loss: 0.556\n"
     ]
    },
    {
     "name": "stderr",
     "output_type": "stream",
     "text": [
      "\r",
      " 20%|██        | 2/10 [03:26<13:42, 102.87s/it]"
     ]
    },
    {
     "name": "stdout",
     "output_type": "stream",
     "text": [
      "[3,     1] loss: 0.001\n",
      "[3,   301] loss: 0.539\n",
      "[3,   601] loss: 0.529\n",
      "[3,   901] loss: 0.561\n",
      "[3,  1201] loss: 0.539\n",
      "[3,  1501] loss: 0.541\n",
      "[3,  1801] loss: 0.536\n",
      "[3,  2101] loss: 0.543\n",
      "[3,  2401] loss: 0.549\n",
      "[3,  2701] loss: 0.530\n",
      "[3,  3001] loss: 0.540\n",
      "[3,  3301] loss: 0.537\n",
      "[3,  3601] loss: 0.534\n",
      "[3,  3901] loss: 0.543\n",
      "[3,  4201] loss: 0.548\n",
      "[3,  4501] loss: 0.544\n",
      "[3,  4801] loss: 0.539\n",
      "[3,  5101] loss: 0.537\n",
      "[3,  5401] loss: 0.545\n",
      "[3,  5701] loss: 0.541\n",
      "[3,  6001] loss: 0.540\n",
      "[3,  6301] loss: 0.532\n",
      "[3,  6601] loss: 0.539\n",
      "[3,  6901] loss: 0.540\n",
      "[3,  7201] loss: 0.554\n",
      "[3,  7501] loss: 0.534\n",
      "[3,  7801] loss: 0.541\n",
      "[3,  8101] loss: 0.540\n",
      "[3,  8401] loss: 0.536\n",
      "[3,  8701] loss: 0.548\n",
      "[3,  9001] loss: 0.543\n",
      "[3,  9301] loss: 0.546\n",
      "[3,  9601] loss: 0.542\n",
      "[3,  9901] loss: 0.539\n",
      "[3, 10201] loss: 0.554\n",
      "[3, 10501] loss: 0.544\n",
      "[3, 10801] loss: 0.535\n",
      "[3, 11101] loss: 0.542\n",
      "[3, 11401] loss: 0.551\n",
      "[3, 11701] loss: 0.553\n",
      "[3, 12001] loss: 0.547\n",
      "[3, 12301] loss: 0.536\n"
     ]
    },
    {
     "name": "stderr",
     "output_type": "stream",
     "text": [
      "\r",
      " 30%|███       | 3/10 [05:08<11:59, 102.83s/it]"
     ]
    },
    {
     "name": "stdout",
     "output_type": "stream",
     "text": [
      "[4,     1] loss: 0.002\n",
      "[4,   301] loss: 0.512\n",
      "[4,   601] loss: 0.529\n",
      "[4,   901] loss: 0.538\n",
      "[4,  1201] loss: 0.531\n",
      "[4,  1501] loss: 0.529\n",
      "[4,  1801] loss: 0.540\n",
      "[4,  2101] loss: 0.531\n",
      "[4,  2401] loss: 0.539\n",
      "[4,  2701] loss: 0.541\n",
      "[4,  3001] loss: 0.529\n",
      "[4,  3301] loss: 0.532\n",
      "[4,  3601] loss: 0.540\n",
      "[4,  3901] loss: 0.545\n",
      "[4,  4201] loss: 0.527\n",
      "[4,  4501] loss: 0.534\n",
      "[4,  4801] loss: 0.532\n",
      "[4,  5101] loss: 0.541\n",
      "[4,  5401] loss: 0.548\n",
      "[4,  5701] loss: 0.519\n",
      "[4,  6001] loss: 0.543\n",
      "[4,  6301] loss: 0.548\n",
      "[4,  6601] loss: 0.526\n",
      "[4,  6901] loss: 0.534\n",
      "[4,  7201] loss: 0.552\n",
      "[4,  7501] loss: 0.537\n",
      "[4,  7801] loss: 0.544\n",
      "[4,  8101] loss: 0.536\n",
      "[4,  8401] loss: 0.537\n",
      "[4,  8701] loss: 0.544\n",
      "[4,  9001] loss: 0.527\n",
      "[4,  9301] loss: 0.543\n",
      "[4,  9601] loss: 0.544\n",
      "[4,  9901] loss: 0.546\n",
      "[4, 10201] loss: 0.548\n",
      "[4, 10501] loss: 0.534\n",
      "[4, 10801] loss: 0.541\n",
      "[4, 11101] loss: 0.546\n",
      "[4, 11401] loss: 0.544\n",
      "[4, 11701] loss: 0.549\n",
      "[4, 12001] loss: 0.534\n",
      "[4, 12301] loss: 0.539\n"
     ]
    },
    {
     "name": "stderr",
     "output_type": "stream",
     "text": [
      "\r",
      " 40%|████      | 4/10 [06:57<10:30, 105.15s/it]"
     ]
    },
    {
     "name": "stdout",
     "output_type": "stream",
     "text": [
      "[5,     1] loss: 0.002\n",
      "[5,   301] loss: 0.516\n",
      "[5,   601] loss: 0.539\n",
      "[5,   901] loss: 0.518\n",
      "[5,  1201] loss: 0.529\n",
      "[5,  1501] loss: 0.521\n",
      "[5,  1801] loss: 0.525\n",
      "[5,  2101] loss: 0.528\n",
      "[5,  2401] loss: 0.519\n",
      "[5,  2701] loss: 0.541\n",
      "[5,  3001] loss: 0.529\n",
      "[5,  3301] loss: 0.541\n",
      "[5,  3601] loss: 0.533\n",
      "[5,  3901] loss: 0.542\n",
      "[5,  4201] loss: 0.533\n",
      "[5,  4501] loss: 0.531\n",
      "[5,  4801] loss: 0.534\n",
      "[5,  5101] loss: 0.543\n",
      "[5,  5401] loss: 0.542\n",
      "[5,  5701] loss: 0.525\n",
      "[5,  6001] loss: 0.533\n",
      "[5,  6301] loss: 0.518\n",
      "[5,  6601] loss: 0.547\n",
      "[5,  6901] loss: 0.549\n",
      "[5,  7201] loss: 0.535\n",
      "[5,  7501] loss: 0.545\n",
      "[5,  7801] loss: 0.534\n",
      "[5,  8101] loss: 0.534\n",
      "[5,  8401] loss: 0.521\n",
      "[5,  8701] loss: 0.537\n",
      "[5,  9001] loss: 0.536\n",
      "[5,  9301] loss: 0.545\n",
      "[5,  9601] loss: 0.527\n",
      "[5,  9901] loss: 0.541\n",
      "[5, 10201] loss: 0.529\n",
      "[5, 10501] loss: 0.532\n",
      "[5, 10801] loss: 0.548\n",
      "[5, 11101] loss: 0.535\n",
      "[5, 11401] loss: 0.530\n",
      "[5, 11701] loss: 0.539\n",
      "[5, 12001] loss: 0.541\n",
      "[5, 12301] loss: 0.525\n"
     ]
    },
    {
     "name": "stderr",
     "output_type": "stream",
     "text": [
      "\r",
      " 50%|█████     | 5/10 [08:43<08:46, 105.33s/it]"
     ]
    },
    {
     "name": "stdout",
     "output_type": "stream",
     "text": [
      "[6,     1] loss: 0.002\n",
      "[6,   301] loss: 0.516\n",
      "[6,   601] loss: 0.524\n",
      "[6,   901] loss: 0.525\n",
      "[6,  1201] loss: 0.519\n",
      "[6,  1501] loss: 0.534\n",
      "[6,  1801] loss: 0.535\n",
      "[6,  2101] loss: 0.519\n",
      "[6,  2401] loss: 0.513\n",
      "[6,  2701] loss: 0.532\n",
      "[6,  3001] loss: 0.537\n",
      "[6,  3301] loss: 0.534\n",
      "[6,  3601] loss: 0.524\n",
      "[6,  3901] loss: 0.531\n",
      "[6,  4201] loss: 0.545\n",
      "[6,  4501] loss: 0.524\n",
      "[6,  4801] loss: 0.541\n",
      "[6,  5101] loss: 0.544\n",
      "[6,  5401] loss: 0.544\n",
      "[6,  5701] loss: 0.522\n",
      "[6,  6001] loss: 0.523\n",
      "[6,  6301] loss: 0.521\n",
      "[6,  6601] loss: 0.546\n",
      "[6,  6901] loss: 0.533\n",
      "[6,  7201] loss: 0.530\n",
      "[6,  7501] loss: 0.536\n",
      "[6,  7801] loss: 0.529\n",
      "[6,  8101] loss: 0.521\n",
      "[6,  8401] loss: 0.546\n",
      "[6,  8701] loss: 0.532\n",
      "[6,  9001] loss: 0.518\n",
      "[6,  9301] loss: 0.537\n",
      "[6,  9601] loss: 0.538\n",
      "[6,  9901] loss: 0.525\n",
      "[6, 10201] loss: 0.554\n",
      "[6, 10501] loss: 0.535\n",
      "[6, 10801] loss: 0.534\n",
      "[6, 11101] loss: 0.537\n",
      "[6, 11401] loss: 0.529\n",
      "[6, 11701] loss: 0.536\n",
      "[6, 12001] loss: 0.535\n",
      "[6, 12301] loss: 0.536\n"
     ]
    },
    {
     "name": "stderr",
     "output_type": "stream",
     "text": [
      "\r",
      " 60%|██████    | 6/10 [10:29<07:02, 105.63s/it]"
     ]
    },
    {
     "name": "stdout",
     "output_type": "stream",
     "text": [
      "[7,     1] loss: 0.001\n",
      "[7,   301] loss: 0.517\n",
      "[7,   601] loss: 0.516\n",
      "[7,   901] loss: 0.521\n",
      "[7,  1201] loss: 0.507\n",
      "[7,  1501] loss: 0.517\n",
      "[7,  1801] loss: 0.521\n",
      "[7,  2101] loss: 0.529\n",
      "[7,  2401] loss: 0.535\n",
      "[7,  2701] loss: 0.524\n",
      "[7,  3001] loss: 0.527\n",
      "[7,  3301] loss: 0.528\n",
      "[7,  3601] loss: 0.517\n",
      "[7,  3901] loss: 0.536\n",
      "[7,  4201] loss: 0.534\n",
      "[7,  4501] loss: 0.533\n",
      "[7,  4801] loss: 0.526\n",
      "[7,  5101] loss: 0.522\n",
      "[7,  5401] loss: 0.527\n",
      "[7,  5701] loss: 0.522\n",
      "[7,  6001] loss: 0.530\n",
      "[7,  6301] loss: 0.527\n",
      "[7,  6601] loss: 0.520\n",
      "[7,  6901] loss: 0.524\n",
      "[7,  7201] loss: 0.538\n",
      "[7,  7501] loss: 0.528\n",
      "[7,  7801] loss: 0.515\n",
      "[7,  8101] loss: 0.536\n",
      "[7,  8401] loss: 0.536\n",
      "[7,  8701] loss: 0.527\n",
      "[7,  9001] loss: 0.520\n",
      "[7,  9301] loss: 0.521\n",
      "[7,  9601] loss: 0.531\n",
      "[7,  9901] loss: 0.540\n",
      "[7, 10201] loss: 0.526\n",
      "[7, 10501] loss: 0.526\n",
      "[7, 10801] loss: 0.542\n",
      "[7, 11101] loss: 0.543\n",
      "[7, 11401] loss: 0.537\n",
      "[7, 11701] loss: 0.530\n",
      "[7, 12001] loss: 0.531\n",
      "[7, 12301] loss: 0.539\n"
     ]
    },
    {
     "name": "stderr",
     "output_type": "stream",
     "text": [
      "\r",
      " 70%|███████   | 7/10 [12:22<05:23, 107.92s/it]"
     ]
    },
    {
     "name": "stdout",
     "output_type": "stream",
     "text": [
      "[8,     1] loss: 0.002\n",
      "[8,   301] loss: 0.512\n",
      "[8,   601] loss: 0.533\n",
      "[8,   901] loss: 0.512\n",
      "[8,  1201] loss: 0.528\n",
      "[8,  1501] loss: 0.519\n",
      "[8,  1801] loss: 0.522\n",
      "[8,  2101] loss: 0.517\n",
      "[8,  2401] loss: 0.514\n",
      "[8,  2701] loss: 0.519\n",
      "[8,  3001] loss: 0.518\n",
      "[8,  3301] loss: 0.516\n",
      "[8,  3601] loss: 0.521\n",
      "[8,  3901] loss: 0.517\n",
      "[8,  4201] loss: 0.537\n",
      "[8,  4501] loss: 0.535\n",
      "[8,  4801] loss: 0.524\n",
      "[8,  5101] loss: 0.545\n",
      "[8,  5401] loss: 0.527\n",
      "[8,  5701] loss: 0.526\n",
      "[8,  6001] loss: 0.528\n",
      "[8,  6301] loss: 0.540\n",
      "[8,  6601] loss: 0.519\n",
      "[8,  6901] loss: 0.535\n",
      "[8,  7201] loss: 0.526\n",
      "[8,  7501] loss: 0.533\n",
      "[8,  7801] loss: 0.521\n",
      "[8,  8101] loss: 0.528\n",
      "[8,  8401] loss: 0.526\n",
      "[8,  8701] loss: 0.525\n",
      "[8,  9001] loss: 0.532\n",
      "[8,  9301] loss: 0.528\n",
      "[8,  9601] loss: 0.520\n",
      "[8,  9901] loss: 0.517\n",
      "[8, 10201] loss: 0.530\n",
      "[8, 10501] loss: 0.535\n",
      "[8, 10801] loss: 0.537\n",
      "[8, 11101] loss: 0.532\n",
      "[8, 11401] loss: 0.537\n",
      "[8, 11701] loss: 0.532\n",
      "[8, 12001] loss: 0.537\n",
      "[8, 12301] loss: 0.530\n"
     ]
    },
    {
     "name": "stderr",
     "output_type": "stream",
     "text": [
      "\r",
      " 80%|████████  | 8/10 [14:10<03:36, 108.18s/it]"
     ]
    },
    {
     "name": "stdout",
     "output_type": "stream",
     "text": [
      "[9,     1] loss: 0.002\n",
      "[9,   301] loss: 0.515\n",
      "[9,   601] loss: 0.520\n",
      "[9,   901] loss: 0.526\n",
      "[9,  1201] loss: 0.529\n",
      "[9,  1501] loss: 0.515\n",
      "[9,  1801] loss: 0.519\n",
      "[9,  2101] loss: 0.543\n",
      "[9,  2401] loss: 0.522\n",
      "[9,  2701] loss: 0.529\n",
      "[9,  3001] loss: 0.521\n",
      "[9,  3301] loss: 0.522\n",
      "[9,  3601] loss: 0.525\n",
      "[9,  3901] loss: 0.525\n",
      "[9,  4201] loss: 0.508\n",
      "[9,  4501] loss: 0.531\n",
      "[9,  4801] loss: 0.529\n",
      "[9,  5101] loss: 0.514\n",
      "[9,  5401] loss: 0.520\n",
      "[9,  5701] loss: 0.520\n",
      "[9,  6001] loss: 0.526\n",
      "[9,  6301] loss: 0.525\n",
      "[9,  6601] loss: 0.530\n",
      "[9,  6901] loss: 0.519\n",
      "[9,  7201] loss: 0.542\n",
      "[9,  7501] loss: 0.527\n",
      "[9,  7801] loss: 0.532\n",
      "[9,  8101] loss: 0.543\n",
      "[9,  8401] loss: 0.534\n",
      "[9,  8701] loss: 0.525\n",
      "[9,  9001] loss: 0.524\n",
      "[9,  9301] loss: 0.528\n",
      "[9,  9601] loss: 0.524\n",
      "[9,  9901] loss: 0.525\n",
      "[9, 10201] loss: 0.535\n",
      "[9, 10501] loss: 0.531\n",
      "[9, 10801] loss: 0.536\n",
      "[9, 11101] loss: 0.531\n",
      "[9, 11401] loss: 0.532\n",
      "[9, 11701] loss: 0.531\n",
      "[9, 12001] loss: 0.543\n",
      "[9, 12301] loss: 0.530\n"
     ]
    },
    {
     "name": "stderr",
     "output_type": "stream",
     "text": [
      "\r",
      " 90%|█████████ | 9/10 [16:00<01:48, 108.61s/it]"
     ]
    },
    {
     "name": "stdout",
     "output_type": "stream",
     "text": [
      "[10,     1] loss: 0.002\n",
      "[10,   301] loss: 0.515\n",
      "[10,   601] loss: 0.520\n",
      "[10,   901] loss: 0.515\n",
      "[10,  1201] loss: 0.523\n",
      "[10,  1501] loss: 0.513\n",
      "[10,  1801] loss: 0.508\n",
      "[10,  2101] loss: 0.518\n",
      "[10,  2401] loss: 0.517\n",
      "[10,  2701] loss: 0.511\n",
      "[10,  3001] loss: 0.524\n",
      "[10,  3301] loss: 0.530\n",
      "[10,  3601] loss: 0.522\n",
      "[10,  3901] loss: 0.523\n",
      "[10,  4201] loss: 0.524\n",
      "[10,  4501] loss: 0.528\n",
      "[10,  4801] loss: 0.532\n",
      "[10,  5101] loss: 0.526\n",
      "[10,  5401] loss: 0.526\n",
      "[10,  5701] loss: 0.534\n",
      "[10,  6001] loss: 0.523\n",
      "[10,  6301] loss: 0.515\n",
      "[10,  6601] loss: 0.521\n",
      "[10,  6901] loss: 0.531\n",
      "[10,  7201] loss: 0.519\n",
      "[10,  7501] loss: 0.527\n",
      "[10,  7801] loss: 0.530\n",
      "[10,  8101] loss: 0.533\n",
      "[10,  8401] loss: 0.538\n",
      "[10,  8701] loss: 0.535\n",
      "[10,  9001] loss: 0.530\n",
      "[10,  9301] loss: 0.530\n",
      "[10,  9601] loss: 0.522\n",
      "[10,  9901] loss: 0.528\n",
      "[10, 10201] loss: 0.523\n",
      "[10, 10501] loss: 0.545\n",
      "[10, 10801] loss: 0.525\n",
      "[10, 11101] loss: 0.526\n",
      "[10, 11401] loss: 0.517\n",
      "[10, 11701] loss: 0.535\n",
      "[10, 12001] loss: 0.512\n",
      "[10, 12301] loss: 0.520\n"
     ]
    },
    {
     "name": "stderr",
     "output_type": "stream",
     "text": [
      "100%|██████████| 10/10 [17:46<00:00, 106.68s/it]"
     ]
    },
    {
     "name": "stdout",
     "output_type": "stream",
     "text": [
      "End of training.\n"
     ]
    },
    {
     "name": "stderr",
     "output_type": "stream",
     "text": [
      "\n"
     ]
    }
   ],
   "source": [
    "for epoch in tqdm(range(10)):  \n",
    "    running_loss = 0.0 \n",
    "    for i, data in enumerate(train_loader, 0):\n",
    "        inputs, labels = data[0], data[1]\n",
    "\n",
    "        optimizer.zero_grad() # Обнуление градиента\n",
    "\n",
    "        outputs = net(inputs)\n",
    "        loss = criterion(outputs, labels)\n",
    "        loss.backward()\n",
    "        optimizer.step()\n",
    "\n",
    "        running_loss += loss.item() # Вывод статистики о процессе обучения\n",
    "        if i % 300 == 0:    # Вывод каждых 300 mini-batches\n",
    "            print('[%d, %5d] loss: %.3f' %\n",
    "                  (epoch + 1, i + 1, running_loss / 2000))\n",
    "            running_loss = 0.0\n",
    "\n",
    "print('End of training.')"
   ]
  }
 ],
 "metadata": {
  "colab": {
   "collapsed_sections": [],
   "name": "Homework_00002.ipynb",
   "provenance": []
  },
  "kernelspec": {
   "display_name": "Python 3",
   "language": "python",
   "name": "python3"
  },
  "language_info": {
   "codemirror_mode": {
    "name": "ipython",
    "version": 3
   },
   "file_extension": ".py",
   "mimetype": "text/x-python",
   "name": "python",
   "nbconvert_exporter": "python",
   "pygments_lexer": "ipython3",
   "version": "3.8.5"
  },
  "widgets": {
   "application/vnd.jupyter.widget-state+json": {
    "02423c8e1f8e412f84d379f9c1c6843e": {
     "model_module": "@jupyter-widgets/controls",
     "model_module_version": "1.5.0",
     "model_name": "HBoxModel",
     "state": {
      "_dom_classes": [],
      "_model_module": "@jupyter-widgets/controls",
      "_model_module_version": "1.5.0",
      "_model_name": "HBoxModel",
      "_view_count": null,
      "_view_module": "@jupyter-widgets/controls",
      "_view_module_version": "1.5.0",
      "_view_name": "HBoxView",
      "box_style": "",
      "children": [
       "IPY_MODEL_d1612fd0311449fe8c1cf1c2a5825ba8",
       "IPY_MODEL_9a11acf5698146f2bf0e8a21f7af43f5",
       "IPY_MODEL_047dceb93e924271a82028a1705f79b6"
      ],
      "layout": "IPY_MODEL_61e2b2b203824e048f3ca4c482ba9872"
     }
    },
    "047dceb93e924271a82028a1705f79b6": {
     "model_module": "@jupyter-widgets/controls",
     "model_module_version": "1.5.0",
     "model_name": "HTMLModel",
     "state": {
      "_dom_classes": [],
      "_model_module": "@jupyter-widgets/controls",
      "_model_module_version": "1.5.0",
      "_model_name": "HTMLModel",
      "_view_count": null,
      "_view_module": "@jupyter-widgets/controls",
      "_view_module_version": "1.5.0",
      "_view_name": "HTMLView",
      "description": "",
      "description_tooltip": null,
      "layout": "IPY_MODEL_9a800f24e2734723a63c6ca501f24205",
      "placeholder": "​",
      "style": "IPY_MODEL_b49ae7f3f92d47c7b0a73162b86e0d85",
      "value": " 169001984/? [00:02&lt;00:00, 76773982.49it/s]"
     }
    },
    "1d4052441cd34363bc9dea444aba45b1": {
     "model_module": "@jupyter-widgets/base",
     "model_module_version": "1.2.0",
     "model_name": "LayoutModel",
     "state": {
      "_model_module": "@jupyter-widgets/base",
      "_model_module_version": "1.2.0",
      "_model_name": "LayoutModel",
      "_view_count": null,
      "_view_module": "@jupyter-widgets/base",
      "_view_module_version": "1.2.0",
      "_view_name": "LayoutView",
      "align_content": null,
      "align_items": null,
      "align_self": null,
      "border": null,
      "bottom": null,
      "display": null,
      "flex": null,
      "flex_flow": null,
      "grid_area": null,
      "grid_auto_columns": null,
      "grid_auto_flow": null,
      "grid_auto_rows": null,
      "grid_column": null,
      "grid_gap": null,
      "grid_row": null,
      "grid_template_areas": null,
      "grid_template_columns": null,
      "grid_template_rows": null,
      "height": null,
      "justify_content": null,
      "justify_items": null,
      "left": null,
      "margin": null,
      "max_height": null,
      "max_width": null,
      "min_height": null,
      "min_width": null,
      "object_fit": null,
      "object_position": null,
      "order": null,
      "overflow": null,
      "overflow_x": null,
      "overflow_y": null,
      "padding": null,
      "right": null,
      "top": null,
      "visibility": null,
      "width": null
     }
    },
    "61e2b2b203824e048f3ca4c482ba9872": {
     "model_module": "@jupyter-widgets/base",
     "model_module_version": "1.2.0",
     "model_name": "LayoutModel",
     "state": {
      "_model_module": "@jupyter-widgets/base",
      "_model_module_version": "1.2.0",
      "_model_name": "LayoutModel",
      "_view_count": null,
      "_view_module": "@jupyter-widgets/base",
      "_view_module_version": "1.2.0",
      "_view_name": "LayoutView",
      "align_content": null,
      "align_items": null,
      "align_self": null,
      "border": null,
      "bottom": null,
      "display": null,
      "flex": null,
      "flex_flow": null,
      "grid_area": null,
      "grid_auto_columns": null,
      "grid_auto_flow": null,
      "grid_auto_rows": null,
      "grid_column": null,
      "grid_gap": null,
      "grid_row": null,
      "grid_template_areas": null,
      "grid_template_columns": null,
      "grid_template_rows": null,
      "height": null,
      "justify_content": null,
      "justify_items": null,
      "left": null,
      "margin": null,
      "max_height": null,
      "max_width": null,
      "min_height": null,
      "min_width": null,
      "object_fit": null,
      "object_position": null,
      "order": null,
      "overflow": null,
      "overflow_x": null,
      "overflow_y": null,
      "padding": null,
      "right": null,
      "top": null,
      "visibility": null,
      "width": null
     }
    },
    "6fa738f9d044474abf55c40532a4625b": {
     "model_module": "@jupyter-widgets/base",
     "model_module_version": "1.2.0",
     "model_name": "LayoutModel",
     "state": {
      "_model_module": "@jupyter-widgets/base",
      "_model_module_version": "1.2.0",
      "_model_name": "LayoutModel",
      "_view_count": null,
      "_view_module": "@jupyter-widgets/base",
      "_view_module_version": "1.2.0",
      "_view_name": "LayoutView",
      "align_content": null,
      "align_items": null,
      "align_self": null,
      "border": null,
      "bottom": null,
      "display": null,
      "flex": null,
      "flex_flow": null,
      "grid_area": null,
      "grid_auto_columns": null,
      "grid_auto_flow": null,
      "grid_auto_rows": null,
      "grid_column": null,
      "grid_gap": null,
      "grid_row": null,
      "grid_template_areas": null,
      "grid_template_columns": null,
      "grid_template_rows": null,
      "height": null,
      "justify_content": null,
      "justify_items": null,
      "left": null,
      "margin": null,
      "max_height": null,
      "max_width": null,
      "min_height": null,
      "min_width": null,
      "object_fit": null,
      "object_position": null,
      "order": null,
      "overflow": null,
      "overflow_x": null,
      "overflow_y": null,
      "padding": null,
      "right": null,
      "top": null,
      "visibility": null,
      "width": null
     }
    },
    "9a11acf5698146f2bf0e8a21f7af43f5": {
     "model_module": "@jupyter-widgets/controls",
     "model_module_version": "1.5.0",
     "model_name": "FloatProgressModel",
     "state": {
      "_dom_classes": [],
      "_model_module": "@jupyter-widgets/controls",
      "_model_module_version": "1.5.0",
      "_model_name": "FloatProgressModel",
      "_view_count": null,
      "_view_module": "@jupyter-widgets/controls",
      "_view_module_version": "1.5.0",
      "_view_name": "ProgressView",
      "bar_style": "success",
      "description": "",
      "description_tooltip": null,
      "layout": "IPY_MODEL_6fa738f9d044474abf55c40532a4625b",
      "max": 169001437,
      "min": 0,
      "orientation": "horizontal",
      "style": "IPY_MODEL_ac7948368a05420b9cc2f057bfbe7b66",
      "value": 169001437
     }
    },
    "9a800f24e2734723a63c6ca501f24205": {
     "model_module": "@jupyter-widgets/base",
     "model_module_version": "1.2.0",
     "model_name": "LayoutModel",
     "state": {
      "_model_module": "@jupyter-widgets/base",
      "_model_module_version": "1.2.0",
      "_model_name": "LayoutModel",
      "_view_count": null,
      "_view_module": "@jupyter-widgets/base",
      "_view_module_version": "1.2.0",
      "_view_name": "LayoutView",
      "align_content": null,
      "align_items": null,
      "align_self": null,
      "border": null,
      "bottom": null,
      "display": null,
      "flex": null,
      "flex_flow": null,
      "grid_area": null,
      "grid_auto_columns": null,
      "grid_auto_flow": null,
      "grid_auto_rows": null,
      "grid_column": null,
      "grid_gap": null,
      "grid_row": null,
      "grid_template_areas": null,
      "grid_template_columns": null,
      "grid_template_rows": null,
      "height": null,
      "justify_content": null,
      "justify_items": null,
      "left": null,
      "margin": null,
      "max_height": null,
      "max_width": null,
      "min_height": null,
      "min_width": null,
      "object_fit": null,
      "object_position": null,
      "order": null,
      "overflow": null,
      "overflow_x": null,
      "overflow_y": null,
      "padding": null,
      "right": null,
      "top": null,
      "visibility": null,
      "width": null
     }
    },
    "ac7948368a05420b9cc2f057bfbe7b66": {
     "model_module": "@jupyter-widgets/controls",
     "model_module_version": "1.5.0",
     "model_name": "ProgressStyleModel",
     "state": {
      "_model_module": "@jupyter-widgets/controls",
      "_model_module_version": "1.5.0",
      "_model_name": "ProgressStyleModel",
      "_view_count": null,
      "_view_module": "@jupyter-widgets/base",
      "_view_module_version": "1.2.0",
      "_view_name": "StyleView",
      "bar_color": null,
      "description_width": ""
     }
    },
    "b49ae7f3f92d47c7b0a73162b86e0d85": {
     "model_module": "@jupyter-widgets/controls",
     "model_module_version": "1.5.0",
     "model_name": "DescriptionStyleModel",
     "state": {
      "_model_module": "@jupyter-widgets/controls",
      "_model_module_version": "1.5.0",
      "_model_name": "DescriptionStyleModel",
      "_view_count": null,
      "_view_module": "@jupyter-widgets/base",
      "_view_module_version": "1.2.0",
      "_view_name": "StyleView",
      "description_width": ""
     }
    },
    "d1612fd0311449fe8c1cf1c2a5825ba8": {
     "model_module": "@jupyter-widgets/controls",
     "model_module_version": "1.5.0",
     "model_name": "HTMLModel",
     "state": {
      "_dom_classes": [],
      "_model_module": "@jupyter-widgets/controls",
      "_model_module_version": "1.5.0",
      "_model_name": "HTMLModel",
      "_view_count": null,
      "_view_module": "@jupyter-widgets/controls",
      "_view_module_version": "1.5.0",
      "_view_name": "HTMLView",
      "description": "",
      "description_tooltip": null,
      "layout": "IPY_MODEL_1d4052441cd34363bc9dea444aba45b1",
      "placeholder": "​",
      "style": "IPY_MODEL_e77424a9bb7f4d1aa22ca205c7ac3391",
      "value": ""
     }
    },
    "e77424a9bb7f4d1aa22ca205c7ac3391": {
     "model_module": "@jupyter-widgets/controls",
     "model_module_version": "1.5.0",
     "model_name": "DescriptionStyleModel",
     "state": {
      "_model_module": "@jupyter-widgets/controls",
      "_model_module_version": "1.5.0",
      "_model_name": "DescriptionStyleModel",
      "_view_count": null,
      "_view_module": "@jupyter-widgets/base",
      "_view_module_version": "1.2.0",
      "_view_name": "StyleView",
      "description_width": ""
     }
    }
   }
  }
 },
 "nbformat": 4,
 "nbformat_minor": 1
}
